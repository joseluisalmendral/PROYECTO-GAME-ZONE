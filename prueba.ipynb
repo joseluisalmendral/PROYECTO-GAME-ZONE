{
 "cells": [
  {
   "cell_type": "markdown",
   "metadata": {},
   "source": [
    "## Pruebas en Sucio"
   ]
  },
  {
   "cell_type": "code",
   "execution_count": 5,
   "metadata": {},
   "outputs": [],
   "source": [
    "import os"
   ]
  },
  {
   "cell_type": "code",
   "execution_count": 9,
   "metadata": {},
   "outputs": [
    {
     "name": "stdout",
     "output_type": "stream",
     "text": [
      "['ahoracado.py', 'piedra_papel_tijera.py', 'preguntados.py', 'tres_en_raya.py']\n"
     ]
    },
    {
     "data": {
      "text/plain": [
       "['AHORACADO', 'PIEDRA PAPEL TIJERA', 'PREGUNTADOS', 'TRES EN RAYA']"
      ]
     },
     "execution_count": 9,
     "metadata": {},
     "output_type": "execute_result"
    }
   ],
   "source": [
    "contenido = os.listdir('src')\n",
    "print(contenido)\n",
    "juegos = []\n",
    "\n",
    "for juego in contenido:\n",
    "    juego = juego.replace('.py','')\n",
    "    juego = juego.replace('_',' ')\n",
    "\n",
    "    juegos.append(juego.upper())\n",
    "\n",
    "juegos"
   ]
  }
 ],
 "metadata": {
  "kernelspec": {
   "display_name": "Python 3",
   "language": "python",
   "name": "python3"
  },
  "language_info": {
   "codemirror_mode": {
    "name": "ipython",
    "version": 3
   },
   "file_extension": ".py",
   "mimetype": "text/x-python",
   "name": "python",
   "nbconvert_exporter": "python",
   "pygments_lexer": "ipython3",
   "version": "3.12.4"
  }
 },
 "nbformat": 4,
 "nbformat_minor": 2
}
