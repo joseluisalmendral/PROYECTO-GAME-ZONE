{
 "cells": [
  {
   "cell_type": "markdown",
   "metadata": {},
   "source": [
    "## Pruebas en Sucio"
   ]
  },
  {
   "cell_type": "code",
   "execution_count": 1,
   "metadata": {},
   "outputs": [],
   "source": [
    "import os"
   ]
  },
  {
   "cell_type": "code",
   "execution_count": 2,
   "metadata": {},
   "outputs": [
    {
     "name": "stdout",
     "output_type": "stream",
     "text": [
      "['ahoracado.py', 'hundir_la_flota.py', 'piedra_papel_tijera.py', 'preguntados.py', 'tres_en_raya.py', '__pycache__']\n"
     ]
    },
    {
     "data": {
      "text/plain": [
       "['AHORACADO',\n",
       " 'HUNDIR LA FLOTA',\n",
       " 'PIEDRA PAPEL TIJERA',\n",
       " 'PREGUNTADOS',\n",
       " 'TRES EN RAYA',\n",
       " '  PYCACHE  ']"
      ]
     },
     "execution_count": 2,
     "metadata": {},
     "output_type": "execute_result"
    }
   ],
   "source": [
    "contenido = os.listdir('src')\n",
    "print(contenido)\n",
    "juegos = []\n",
    "\n",
    "for juego in contenido:\n",
    "    juego = juego.replace('.py','')\n",
    "    juego = juego.replace('_',' ')\n",
    "\n",
    "    juegos.append(juego.upper())\n",
    "\n",
    "juegos"
   ]
  },
  {
   "cell_type": "markdown",
   "metadata": {},
   "source": [
    "## prueba codigo HUNDIR LA FLOTA"
   ]
  },
  {
   "cell_type": "code",
   "execution_count": null,
   "metadata": {},
   "outputs": [],
   "source": [
    "import string\n",
    "import random\n",
    "\n",
    "class HundirLaFlota:\n",
    "    def __init__(self):\n",
    "        pass\n",
    "\n",
    "\n",
    "    def jugar(self):\n",
    "        print('estas jugando a hundir la flota')\n",
    "\n",
    "         \n",
    "\n",
    "\n",
    "\n",
    "        return self.terminar_juego()\n",
    "\n",
    "\n",
    "\n",
    "    def terminar_juego(self):\n",
    "        while True:\n",
    "            print(\"\\n1. Volver a jugar\")\n",
    "            print(\"2. Volver al menú de juegos\")\n",
    "            print(\"3. Terminar el programa\")\n",
    "            choice = input(\"Selecciona una opción: \")\n",
    "            if choice == '1':\n",
    "                return 'volver_jugar'\n",
    "            elif choice == '2':\n",
    "                return 'volver_menu'\n",
    "            elif choice == '3':\n",
    "                return 'salir'\n",
    "            else:\n",
    "                print(\"Opción no válida. Intenta de nuevo.\")"
   ]
  },
  {
   "cell_type": "markdown",
   "metadata": {},
   "source": [
    "### seccion crear tablero y pintarlo"
   ]
  },
  {
   "cell_type": "code",
   "execution_count": 129,
   "metadata": {},
   "outputs": [
    {
     "name": "stdout",
     "output_type": "stream",
     "text": [
      "  +---+---+---+---+---+---+---+---+---+---+\n",
      "A |   |   |   |   |   |   |   |   |   |   |\n",
      "  +---+---+---+---+---+---+---+---+---+---+\n",
      "B |   |   |   |   |   |   |   |   |   |   |\n",
      "  +---+---+---+---+---+---+---+---+---+---+\n",
      "C |   | b | b | b | b | b |   |   |   |   |\n",
      "  +---+---+---+---+---+---+---+---+---+---+\n",
      "D |   |   |   |   |   |   | b | b | b | b |\n",
      "  +---+---+---+---+---+---+---+---+---+---+\n",
      "E |   |   |   |   |   |   |   |   |   |   |\n",
      "  +---+---+---+---+---+---+---+---+---+---+\n",
      "F |   |   |   |   | b | b | b |   |   |   |\n",
      "  +---+---+---+---+---+---+---+---+---+---+\n",
      "G |   |   |   |   |   |   |   |   |   | b |\n",
      "  +---+---+---+---+---+---+---+---+---+---+\n",
      "H |   |   |   |   |   |   |   |   |   | b |\n",
      "  +---+---+---+---+---+---+---+---+---+---+\n",
      "I |   | b |   |   |   |   |   |   |   | b |\n",
      "  +---+---+---+---+---+---+---+---+---+---+\n",
      "J |   | b |   |   |   |   |   |   |   |   |\n",
      "  +---+---+---+---+---+---+---+---+---+---+\n",
      "    1   2   3   4   5   6   7   8   9   10\n"
     ]
    }
   ],
   "source": [
    "\n",
    "\n",
    "#CREAR TABLERO\n",
    "caracter_mar = \" \"\n",
    "caracter_barco = \"b\"\n",
    "longitud = 10\n",
    "tablero = list(map(lambda _: [caracter_mar] * longitud, range(longitud)))\n",
    "\n",
    "numeros_columnas = [str(i) for i in range(1, longitud + 1)]\n",
    "\n",
    "letras = string.ascii_uppercase\n",
    "letras_filas = [letras[i] for i in range(0,longitud)]\n",
    "\n",
    "\n",
    "#PINTAR TABLERO\n",
    "def pintar_tablero():\n",
    "    for i, fila in enumerate(tablero):\n",
    "        contenido_fila = \" | \".join(fila) #.replace(caracter_barco,caracter_mar)#para no mostrar donde estan\n",
    "\n",
    "        print(f\"  {\"+---\" * longitud}\" + \"+\")\n",
    "        print(f\"{letras_filas[i]} | {contenido_fila}\" + \" |\")\n",
    "\n",
    "    print(\"  \" + \"+---\" * longitud + \"+\") #linea final del tablero\n",
    "    print(\"    \" + \"   \".join(numeros_columnas)) #numeros de las columnas\n",
    "\n",
    "#pintar_tablero()\n",
    "\n",
    "\n",
    "\n",
    "\n",
    "#COLOCAR BARCOS MAQUINA\n",
    "\n",
    "\n",
    "#elegimos posicion aleatoria\n",
    "def elegir_posicion_aleatoria():\n",
    "     \n",
    "    fila = letras_filas[random.randint(0,len(letras_filas)-1)]\n",
    "    columna = numeros_columnas[random.randint(0,len(numeros_columnas)-1)]\n",
    "\n",
    "    return {\n",
    "        'fila': fila,\n",
    "        'columna': columna\n",
    "    }\n",
    "\n",
    "\n",
    "\n",
    "barcos = [('Portaviones',5), ('Acorazado',4), ('Submarino',3), ('Destructor',3), ('Patrullero',2)]\n",
    "\n",
    "for barco in barcos:\n",
    "    orientacion = ['horizontal', 'vertical']\n",
    "    orientacion_elegida = orientacion[random.randint(0, 1)] #elige entre vertical u horizontal\n",
    "\n",
    "    while True:\n",
    "        posicion = elegir_posicion_aleatoria()\n",
    "        letra_fila = letras_filas.index(posicion['fila'])#int\n",
    "        n_columna = int(posicion['columna']) - 1 # -1 porque trabajamos con indices de listas\n",
    "        fila = tablero[letra_fila]\n",
    "\n",
    "        if orientacion_elegida == 'horizontal':\n",
    "            if n_columna + barco[1] <= len(fila):\n",
    "                espacio_libre = True\n",
    "                for i in range(n_columna, n_columna + barco[1]):\n",
    "                    if tablero[letra_fila][i] == caracter_barco:\n",
    "                        espacio_libre = False\n",
    "                        break\n",
    "\n",
    "                if espacio_libre:\n",
    "                    for i in range(n_columna, n_columna + barco[1]):\n",
    "                        tablero[letra_fila][i] = caracter_barco\n",
    "                    break  # Pasamos al siguiente barco\n",
    "\n",
    "        # Orientación vertical\n",
    "        else:\n",
    "            if letra_fila + barco[1] <= len(tablero):\n",
    "                espacio_libre = True\n",
    "                for i in range(letra_fila, letra_fila + barco[1]):\n",
    "                    if tablero[i][n_columna] == caracter_barco:\n",
    "                        espacio_libre = False\n",
    "                        break \n",
    "\n",
    "                if espacio_libre:\n",
    "                    for i in range(letra_fila, letra_fila + barco[1]):\n",
    "                        tablero[i][n_columna] = caracter_barco\n",
    "                    break # Pasamos al siguiente barco\n",
    "\n",
    "\n",
    "pintar_tablero()"
   ]
  },
  {
   "attachments": {
    "image.png": {
     "image/png": "[encoded data removed]"
    }
   },
   "cell_type": "markdown",
   "metadata": {},
   "source": [
    "# barcos a colocar\n",
    "![image.png](attachment:image.png)"
   ]
  }
 ],
 "metadata": {
  "kernelspec": {
   "display_name": "Python 3",
   "language": "python",
   "name": "python3"
  },
  "language_info": {
   "codemirror_mode": {
    "name": "ipython",
    "version": 3
   },
   "file_extension": ".py",
   "mimetype": "text/x-python",
   "name": "python",
   "nbconvert_exporter": "python",
   "pygments_lexer": "ipython3",
   "version": "3.12.4"
  }
 },
 "nbformat": 4,
 "nbformat_minor": 2
}
